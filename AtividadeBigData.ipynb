{
  "nbformat": 4,
  "nbformat_minor": 0,
  "metadata": {
    "colab": {
      "provenance": [],
      "authorship_tag": "ABX9TyPqaGVWMsOf3A59VLij0ozE",
      "include_colab_link": true
    },
    "kernelspec": {
      "name": "python3",
      "display_name": "Python 3"
    },
    "language_info": {
      "name": "python"
    }
  },
  "cells": [
    {
      "cell_type": "markdown",
      "metadata": {
        "id": "view-in-github",
        "colab_type": "text"
      },
      "source": [
        "<a href=\"https://colab.research.google.com/github/Joao-MSR/BigData/blob/main/AtividadeBigData.ipynb\" target=\"_parent\"><img src=\"https://colab.research.google.com/assets/colab-badge.svg\" alt=\"Open In Colab\"/></a>"
      ]
    },
    {
      "cell_type": "code",
      "execution_count": 1,
      "metadata": {
        "colab": {
          "base_uri": "https://localhost:8080/"
        },
        "id": "PnLruiHr-VOk",
        "outputId": "9f4caa35-461f-4a98-ce5c-89a97c54b0d7"
      },
      "outputs": [
        {
          "output_type": "stream",
          "name": "stdout",
          "text": [
            "Tipo com maior interação: imagem\n",
            "Assunto com maior interação: moda\n",
            "Faixa de horário com maior interações: 03:00:00 - 04:00:00\n",
            "3 dias do mês com maior interação:\n",
            "2024-01-14 - Interactions: 1143\n",
            "2024-01-25 - Interactions: 1055\n",
            "2024-01-17 - Interactions: 1039\n"
          ]
        }
      ],
      "source": [
        "import pandas as pd\n",
        "import random\n",
        "from datetime import datetime, timedelta\n",
        "\n",
        "# Função para gerar uma data aleatória em janeiro de 2024\n",
        "def random_date():\n",
        "    start_date = datetime(2024, 1, 1)\n",
        "    end_date = datetime(2024, 1, 31)\n",
        "    return start_date + timedelta(days=random.randint(0, (end_date - start_date).days))\n",
        "\n",
        "# Função para gerar uma hora aleatória\n",
        "def random_time():\n",
        "    return \"{:02d}:{:02d}:{:02d}\".format(random.randint(0, 23), random.randint(0, 59), random.randint(0, 59))\n",
        "\n",
        "# Gerar base de dados com 1000 registros\n",
        "data = {\n",
        "    'usuario': [random.randint(1, 20) for _ in range(1000)],\n",
        "    'tipo': [random.choice(['imagem', 'video', 'texto']) for _ in range(1000)],\n",
        "    'assunto': [random.choice(['esportes', 'moda', 'finanças', 'educação', 'saúde']) for _ in range(1000)],\n",
        "    'data': [random_date().strftime('%Y-%m-%d') for _ in range(1000)],\n",
        "    'hora': [random_time() for _ in range(1000)],\n",
        "    'interacoes': [random.randint(1, 50) for _ in range(1000)]\n",
        "}\n",
        "\n",
        "# Criar DataFrame\n",
        "df = pd.DataFrame(data)\n",
        "\n",
        "# Salvar DataFrame como CSV\n",
        "df.to_csv('postagens.csv', index=False)\n",
        "\n",
        "# Mostrar tipo com maior interação\n",
        "tipo_maior_interacao = df.groupby('tipo')['interacoes'].sum().idxmax()\n",
        "print(\"Tipo com maior interação:\", tipo_maior_interacao)\n",
        "\n",
        "# Mostrar assunto com maior interação\n",
        "assunto_maior_interacao = df.groupby('assunto')['interacoes'].sum().idxmax()\n",
        "print(\"Assunto com maior interação:\", assunto_maior_interacao)\n",
        "\n",
        "# Converter hora para formato datetime\n",
        "df['hora'] = pd.to_datetime(df['hora'], format='%H:%M:%S')\n",
        "\n",
        "# Calcular faixa de horário com maior interações (em intervalos de 1 hora)\n",
        "df['hora_intervalo'] = df['hora'].dt.floor('H')\n",
        "faixa_horario_maior_interacao = df.groupby('hora_intervalo')['interacoes'].sum().idxmax()\n",
        "print(\"Faixa de horário com maior interações:\", faixa_horario_maior_interacao.time(), \"-\", (faixa_horario_maior_interacao + timedelta(hours=1)).time())\n",
        "\n",
        "# Calcular 3 dias do mês com maior interação\n",
        "top_3_dias = df.groupby('data')['interacoes'].sum().nlargest(3)\n",
        "print(\"3 dias do mês com maior interação:\")\n",
        "for date, interactions in top_3_dias.items():\n",
        "    print(date, \"- Interactions:\", interactions)"
      ]
    }
  ]
}